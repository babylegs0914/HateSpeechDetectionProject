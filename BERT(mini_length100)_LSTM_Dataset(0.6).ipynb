{
 "cells": [
  {
   "cell_type": "code",
   "execution_count": null,
   "id": "8beef7c0-238a-432d-acd0-ffb1152fb87d",
   "metadata": {
    "id": "8beef7c0-238a-432d-acd0-ffb1152fb87d"
   },
   "outputs": [],
   "source": [
    "# !pip install transformers"
   ]
  },
  {
   "cell_type": "code",
   "execution_count": null,
   "id": "d040aa36-70de-4995-bb0e-42f36b6607b0",
   "metadata": {
    "id": "d040aa36-70de-4995-bb0e-42f36b6607b0"
   },
   "outputs": [],
   "source": [
    "# !pip install tf-keras"
   ]
  },
  {
   "cell_type": "code",
   "execution_count": null,
   "id": "03cf2a38-9f79-4343-9480-28f5fa0603ea",
   "metadata": {
    "colab": {
     "base_uri": "https://localhost:8080/",
     "height": 333,
     "referenced_widgets": [
      "1fcb7e81ece846049163aa53375d07ef",
      "c0926f8a412d479ab728cd779f49e370",
      "b88eff27cf1f4f7393303574db422983",
      "28a3b1251e414807ba7b97c776801555",
      "3d0a1901b5c24078ba08b25ee66172b0",
      "bdb73f13bd6042b09eaabe0ad097286b",
      "b7d5ebd536f14426bc156f125007395d",
      "3387c8ee85734527800c070280a74efa",
      "9fcac0f79dc54e22982714c13402982e",
      "35bf2e1e16ba440e853ba11b894e872b",
      "3691c1af77964825bd6d7a78202add0b",
      "564cd580b4164b6e88217651bad59876",
      "57a0175f061e4212a7f2ddabbcf7932f",
      "c8fa1b10a2e34a6da485089b1eceb151",
      "5d0e5b103a1647a183209986b59ceab6",
      "09ddfa4ae35542d386833634921260f0",
      "dd084f7c962a412dace31b3fc53aeda6",
      "d93833cc1f774667a6e4564c1c335206",
      "ae5099a5680f43efae3fc3838e140b5b",
      "3b4f321a7fc146aa8f83b25fdcbce17f",
      "8706ab84933f415093563478abf1fb2f",
      "b8114e7e525042aaac80c40d5e8f0392",
      "d919d4122dcb48a1bed613b8d61dfbe0",
      "a2cec76233354b2dbd564197d38b2216",
      "51a45161d5614c019a4a2e5e85a7a2ff",
      "f9553800f93d4f899be878685f7fd7dd",
      "c60a3340e6e0483581a8f37f217229e0",
      "e4417df50a16476f94f93264a5f265fb",
      "492db59017a54d7c8aa37b2aa2d58e82",
      "0bcdd5b42c7645e3a75f2a376a825355",
      "5c38db9221184b9ab3dde82896f276ac",
      "e772e08109574453a54b623e19a54549",
      "0514629288594510b0851d272a8b1276"
     ]
    },
    "id": "03cf2a38-9f79-4343-9480-28f5fa0603ea",
    "outputId": "7bf0fb28-138c-43be-c7a5-a56dbf38c357"
   },
   "outputs": [
    {
     "name": "stderr",
     "output_type": "stream",
     "text": [
      "/usr/local/lib/python3.10/dist-packages/huggingface_hub/utils/_token.py:89: UserWarning: \n",
      "The secret `HF_TOKEN` does not exist in your Colab secrets.\n",
      "To authenticate with the Hugging Face Hub, create a token in your settings tab (https://huggingface.co/settings/tokens), set it as secret in your Google Colab and restart your session.\n",
      "You will be able to reuse this secret in all of your notebooks.\n",
      "Please note that authentication is recommended but still optional to access public models or datasets.\n",
      "  warnings.warn(\n"
     ]
    },
    {
     "data": {
      "application/vnd.jupyter.widget-view+json": {
       "model_id": "1fcb7e81ece846049163aa53375d07ef",
       "version_major": 2,
       "version_minor": 0
      },
      "text/plain": [
       "config.json:   0%|          | 0.00/286 [00:00<?, ?B/s]"
      ]
     },
     "metadata": {},
     "output_type": "display_data"
    },
    {
     "data": {
      "application/vnd.jupyter.widget-view+json": {
       "model_id": "564cd580b4164b6e88217651bad59876",
       "version_major": 2,
       "version_minor": 0
      },
      "text/plain": [
       "vocab.txt:   0%|          | 0.00/232k [00:00<?, ?B/s]"
      ]
     },
     "metadata": {},
     "output_type": "display_data"
    },
    {
     "data": {
      "application/vnd.jupyter.widget-view+json": {
       "model_id": "d919d4122dcb48a1bed613b8d61dfbe0",
       "version_major": 2,
       "version_minor": 0
      },
      "text/plain": [
       "pytorch_model.bin:   0%|          | 0.00/45.1M [00:00<?, ?B/s]"
      ]
     },
     "metadata": {},
     "output_type": "display_data"
    },
    {
     "name": "stderr",
     "output_type": "stream",
     "text": [
      "Some weights of the PyTorch model were not used when initializing the TF 2.0 model TFBertModel: ['cls.predictions.bias', 'cls.predictions.decoder.bias', 'cls.predictions.decoder.weight', 'cls.predictions.transform.dense.weight', 'cls.predictions.transform.dense.bias', 'cls.predictions.transform.LayerNorm.bias', 'cls.seq_relationship.bias', 'cls.predictions.transform.LayerNorm.weight', 'bert.embeddings.position_ids', 'cls.seq_relationship.weight']\n",
      "- This IS expected if you are initializing TFBertModel from a PyTorch model trained on another task or with another architecture (e.g. initializing a TFBertForSequenceClassification model from a BertForPreTraining model).\n",
      "- This IS NOT expected if you are initializing TFBertModel from a PyTorch model that you expect to be exactly identical (e.g. initializing a TFBertForSequenceClassification model from a BertForSequenceClassification model).\n",
      "All the weights of TFBertModel were initialized from the PyTorch model.\n",
      "If your task is similar to the task the model of the checkpoint was trained on, you can already use TFBertModel for predictions without further training.\n"
     ]
    }
   ],
   "source": [
    "from transformers import AutoTokenizer,TFAutoModel\n",
    "tokenizer = AutoTokenizer.from_pretrained(\"prajjwal1/bert-mini\")\n",
    "model = TFAutoModel.from_pretrained(\"prajjwal1/bert-mini\",from_pt=True)"
   ]
  },
  {
   "cell_type": "code",
   "execution_count": null,
   "id": "4fb8d5fb-7da6-497f-a664-a26ae727f1b4",
   "metadata": {
    "colab": {
     "base_uri": "https://localhost:8080/",
     "height": 206
    },
    "id": "4fb8d5fb-7da6-497f-a664-a26ae727f1b4",
    "outputId": "c8c2e00a-f26b-42bb-ce21-8b300db4f9fc"
   },
   "outputs": [
    {
     "data": {
      "application/vnd.google.colaboratory.intrinsic+json": {
       "type": "dataframe",
       "variable_name": "df"
      },
      "text/html": [
       "\n",
       "  <div id=\"df-44ec581c-b1d6-4445-8c7d-83d66449277d\" class=\"colab-df-container\">\n",
       "    <div>\n",
       "<style scoped>\n",
       "    .dataframe tbody tr th:only-of-type {\n",
       "        vertical-align: middle;\n",
       "    }\n",
       "\n",
       "    .dataframe tbody tr th {\n",
       "        vertical-align: top;\n",
       "    }\n",
       "\n",
       "    .dataframe thead th {\n",
       "        text-align: right;\n",
       "    }\n",
       "</style>\n",
       "<table border=\"1\" class=\"dataframe\">\n",
       "  <thead>\n",
       "    <tr style=\"text-align: right;\">\n",
       "      <th></th>\n",
       "      <th>Content</th>\n",
       "      <th>Label</th>\n",
       "    </tr>\n",
       "  </thead>\n",
       "  <tbody>\n",
       "    <tr>\n",
       "      <th>0</th>\n",
       "      <td>denial of normal the con be asked to comment o...</td>\n",
       "      <td>1</td>\n",
       "    </tr>\n",
       "    <tr>\n",
       "      <th>1</th>\n",
       "      <td>just by being able to tweet this insufferable ...</td>\n",
       "      <td>1</td>\n",
       "    </tr>\n",
       "    <tr>\n",
       "      <th>2</th>\n",
       "      <td>that is retarded you too cute to be single tha...</td>\n",
       "      <td>1</td>\n",
       "    </tr>\n",
       "    <tr>\n",
       "      <th>3</th>\n",
       "      <td>thought of a real badass mongol style declarat...</td>\n",
       "      <td>1</td>\n",
       "    </tr>\n",
       "    <tr>\n",
       "      <th>4</th>\n",
       "      <td>afro american basho</td>\n",
       "      <td>1</td>\n",
       "    </tr>\n",
       "  </tbody>\n",
       "</table>\n",
       "</div>\n",
       "    <div class=\"colab-df-buttons\">\n",
       "\n",
       "  <div class=\"colab-df-container\">\n",
       "    <button class=\"colab-df-convert\" onclick=\"convertToInteractive('df-44ec581c-b1d6-4445-8c7d-83d66449277d')\"\n",
       "            title=\"Convert this dataframe to an interactive table.\"\n",
       "            style=\"display:none;\">\n",
       "\n",
       "  <svg xmlns=\"http://www.w3.org/2000/svg\" height=\"24px\" viewBox=\"0 -960 960 960\">\n",
       "    <path d=\"M120-120v-720h720v720H120Zm60-500h600v-160H180v160Zm220 220h160v-160H400v160Zm0 220h160v-160H400v160ZM180-400h160v-160H180v160Zm440 0h160v-160H620v160ZM180-180h160v-160H180v160Zm440 0h160v-160H620v160Z\"/>\n",
       "  </svg>\n",
       "    </button>\n",
       "\n",
       "  <style>\n",
       "    .colab-df-container {\n",
       "      display:flex;\n",
       "      gap: 12px;\n",
       "    }\n",
       "\n",
       "    .colab-df-convert {\n",
       "      background-color: #E8F0FE;\n",
       "      border: none;\n",
       "      border-radius: 50%;\n",
       "      cursor: pointer;\n",
       "      display: none;\n",
       "      fill: #1967D2;\n",
       "      height: 32px;\n",
       "      padding: 0 0 0 0;\n",
       "      width: 32px;\n",
       "    }\n",
       "\n",
       "    .colab-df-convert:hover {\n",
       "      background-color: #E2EBFA;\n",
       "      box-shadow: 0px 1px 2px rgba(60, 64, 67, 0.3), 0px 1px 3px 1px rgba(60, 64, 67, 0.15);\n",
       "      fill: #174EA6;\n",
       "    }\n",
       "\n",
       "    .colab-df-buttons div {\n",
       "      margin-bottom: 4px;\n",
       "    }\n",
       "\n",
       "    [theme=dark] .colab-df-convert {\n",
       "      background-color: #3B4455;\n",
       "      fill: #D2E3FC;\n",
       "    }\n",
       "\n",
       "    [theme=dark] .colab-df-convert:hover {\n",
       "      background-color: #434B5C;\n",
       "      box-shadow: 0px 1px 3px 1px rgba(0, 0, 0, 0.15);\n",
       "      filter: drop-shadow(0px 1px 2px rgba(0, 0, 0, 0.3));\n",
       "      fill: #FFFFFF;\n",
       "    }\n",
       "  </style>\n",
       "\n",
       "    <script>\n",
       "      const buttonEl =\n",
       "        document.querySelector('#df-44ec581c-b1d6-4445-8c7d-83d66449277d button.colab-df-convert');\n",
       "      buttonEl.style.display =\n",
       "        google.colab.kernel.accessAllowed ? 'block' : 'none';\n",
       "\n",
       "      async function convertToInteractive(key) {\n",
       "        const element = document.querySelector('#df-44ec581c-b1d6-4445-8c7d-83d66449277d');\n",
       "        const dataTable =\n",
       "          await google.colab.kernel.invokeFunction('convertToInteractive',\n",
       "                                                    [key], {});\n",
       "        if (!dataTable) return;\n",
       "\n",
       "        const docLinkHtml = 'Like what you see? Visit the ' +\n",
       "          '<a target=\"_blank\" href=https://colab.research.google.com/notebooks/data_table.ipynb>data table notebook</a>'\n",
       "          + ' to learn more about interactive tables.';\n",
       "        element.innerHTML = '';\n",
       "        dataTable['output_type'] = 'display_data';\n",
       "        await google.colab.output.renderOutput(dataTable, element);\n",
       "        const docLink = document.createElement('div');\n",
       "        docLink.innerHTML = docLinkHtml;\n",
       "        element.appendChild(docLink);\n",
       "      }\n",
       "    </script>\n",
       "  </div>\n",
       "\n",
       "\n",
       "<div id=\"df-a4720870-d711-48ec-9fd4-287b1bb72994\">\n",
       "  <button class=\"colab-df-quickchart\" onclick=\"quickchart('df-a4720870-d711-48ec-9fd4-287b1bb72994')\"\n",
       "            title=\"Suggest charts\"\n",
       "            style=\"display:none;\">\n",
       "\n",
       "<svg xmlns=\"http://www.w3.org/2000/svg\" height=\"24px\"viewBox=\"0 0 24 24\"\n",
       "     width=\"24px\">\n",
       "    <g>\n",
       "        <path d=\"M19 3H5c-1.1 0-2 .9-2 2v14c0 1.1.9 2 2 2h14c1.1 0 2-.9 2-2V5c0-1.1-.9-2-2-2zM9 17H7v-7h2v7zm4 0h-2V7h2v10zm4 0h-2v-4h2v4z\"/>\n",
       "    </g>\n",
       "</svg>\n",
       "  </button>\n",
       "\n",
       "<style>\n",
       "  .colab-df-quickchart {\n",
       "      --bg-color: #E8F0FE;\n",
       "      --fill-color: #1967D2;\n",
       "      --hover-bg-color: #E2EBFA;\n",
       "      --hover-fill-color: #174EA6;\n",
       "      --disabled-fill-color: #AAA;\n",
       "      --disabled-bg-color: #DDD;\n",
       "  }\n",
       "\n",
       "  [theme=dark] .colab-df-quickchart {\n",
       "      --bg-color: #3B4455;\n",
       "      --fill-color: #D2E3FC;\n",
       "      --hover-bg-color: #434B5C;\n",
       "      --hover-fill-color: #FFFFFF;\n",
       "      --disabled-bg-color: #3B4455;\n",
       "      --disabled-fill-color: #666;\n",
       "  }\n",
       "\n",
       "  .colab-df-quickchart {\n",
       "    background-color: var(--bg-color);\n",
       "    border: none;\n",
       "    border-radius: 50%;\n",
       "    cursor: pointer;\n",
       "    display: none;\n",
       "    fill: var(--fill-color);\n",
       "    height: 32px;\n",
       "    padding: 0;\n",
       "    width: 32px;\n",
       "  }\n",
       "\n",
       "  .colab-df-quickchart:hover {\n",
       "    background-color: var(--hover-bg-color);\n",
       "    box-shadow: 0 1px 2px rgba(60, 64, 67, 0.3), 0 1px 3px 1px rgba(60, 64, 67, 0.15);\n",
       "    fill: var(--button-hover-fill-color);\n",
       "  }\n",
       "\n",
       "  .colab-df-quickchart-complete:disabled,\n",
       "  .colab-df-quickchart-complete:disabled:hover {\n",
       "    background-color: var(--disabled-bg-color);\n",
       "    fill: var(--disabled-fill-color);\n",
       "    box-shadow: none;\n",
       "  }\n",
       "\n",
       "  .colab-df-spinner {\n",
       "    border: 2px solid var(--fill-color);\n",
       "    border-color: transparent;\n",
       "    border-bottom-color: var(--fill-color);\n",
       "    animation:\n",
       "      spin 1s steps(1) infinite;\n",
       "  }\n",
       "\n",
       "  @keyframes spin {\n",
       "    0% {\n",
       "      border-color: transparent;\n",
       "      border-bottom-color: var(--fill-color);\n",
       "      border-left-color: var(--fill-color);\n",
       "    }\n",
       "    20% {\n",
       "      border-color: transparent;\n",
       "      border-left-color: var(--fill-color);\n",
       "      border-top-color: var(--fill-color);\n",
       "    }\n",
       "    30% {\n",
       "      border-color: transparent;\n",
       "      border-left-color: var(--fill-color);\n",
       "      border-top-color: var(--fill-color);\n",
       "      border-right-color: var(--fill-color);\n",
       "    }\n",
       "    40% {\n",
       "      border-color: transparent;\n",
       "      border-right-color: var(--fill-color);\n",
       "      border-top-color: var(--fill-color);\n",
       "    }\n",
       "    60% {\n",
       "      border-color: transparent;\n",
       "      border-right-color: var(--fill-color);\n",
       "    }\n",
       "    80% {\n",
       "      border-color: transparent;\n",
       "      border-right-color: var(--fill-color);\n",
       "      border-bottom-color: var(--fill-color);\n",
       "    }\n",
       "    90% {\n",
       "      border-color: transparent;\n",
       "      border-bottom-color: var(--fill-color);\n",
       "    }\n",
       "  }\n",
       "</style>\n",
       "\n",
       "  <script>\n",
       "    async function quickchart(key) {\n",
       "      const quickchartButtonEl =\n",
       "        document.querySelector('#' + key + ' button');\n",
       "      quickchartButtonEl.disabled = true;  // To prevent multiple clicks.\n",
       "      quickchartButtonEl.classList.add('colab-df-spinner');\n",
       "      try {\n",
       "        const charts = await google.colab.kernel.invokeFunction(\n",
       "            'suggestCharts', [key], {});\n",
       "      } catch (error) {\n",
       "        console.error('Error during call to suggestCharts:', error);\n",
       "      }\n",
       "      quickchartButtonEl.classList.remove('colab-df-spinner');\n",
       "      quickchartButtonEl.classList.add('colab-df-quickchart-complete');\n",
       "    }\n",
       "    (() => {\n",
       "      let quickchartButtonEl =\n",
       "        document.querySelector('#df-a4720870-d711-48ec-9fd4-287b1bb72994 button');\n",
       "      quickchartButtonEl.style.display =\n",
       "        google.colab.kernel.accessAllowed ? 'block' : 'none';\n",
       "    })();\n",
       "  </script>\n",
       "</div>\n",
       "\n",
       "    </div>\n",
       "  </div>\n"
      ],
      "text/plain": [
       "                                             Content  Label\n",
       "0  denial of normal the con be asked to comment o...      1\n",
       "1  just by being able to tweet this insufferable ...      1\n",
       "2  that is retarded you too cute to be single tha...      1\n",
       "3  thought of a real badass mongol style declarat...      1\n",
       "4                                afro american basho      1"
      ]
     },
     "execution_count": 5,
     "metadata": {},
     "output_type": "execute_result"
    }
   ],
   "source": [
    "import pandas as pd\n",
    "df = pd.read_csv('HateSpeechDatasetBalanced.csv')\n",
    "df.head()"
   ]
  },
  {
   "cell_type": "code",
   "execution_count": null,
   "id": "0d616ac7-2ee3-4052-a751-9281722f9ed0",
   "metadata": {
    "id": "0d616ac7-2ee3-4052-a751-9281722f9ed0"
   },
   "outputs": [],
   "source": [
    "df.drop_duplicates(subset=['Content'],inplace=True)\n",
    "df.dropna(subset=['Content'],inplace=True)\n",
    "df = df[df['Content'].str.len()>1]\n",
    "df = df.sample(frac=0.6, random_state=1)"
   ]
  },
  {
   "cell_type": "code",
   "execution_count": null,
   "id": "ef28bf60-28e6-4ac9-a361-5c2b7a792cfe",
   "metadata": {
    "colab": {
     "base_uri": "https://localhost:8080/"
    },
    "id": "ef28bf60-28e6-4ac9-a361-5c2b7a792cfe",
    "outputId": "aeffbe97-0889-4003-dae8-111d9343fbfe"
   },
   "outputs": [
    {
     "data": {
      "text/plain": [
       "420023"
      ]
     },
     "execution_count": 7,
     "metadata": {},
     "output_type": "execute_result"
    }
   ],
   "source": [
    "len(df)"
   ]
  },
  {
   "cell_type": "code",
   "execution_count": null,
   "id": "2efc41f7-1283-416f-b3ed-5194b39d3d19",
   "metadata": {
    "id": "2efc41f7-1283-416f-b3ed-5194b39d3d19"
   },
   "outputs": [],
   "source": [
    "encoded_inputs = tokenizer(\n",
    "    df['Content'].tolist(),\n",
    "    padding = True,\n",
    "    truncation=True,\n",
    "    return_tensors='tf',\n",
    "    max_length=100\n",
    ")"
   ]
  },
  {
   "cell_type": "code",
   "execution_count": null,
   "id": "70ba1120-b461-40de-ba7d-3d9e60081e2f",
   "metadata": {
    "id": "70ba1120-b461-40de-ba7d-3d9e60081e2f"
   },
   "outputs": [],
   "source": [
    "batch_size = 20\n",
    "outputs = []\n",
    "\n",
    "for i in range(0, len(encoded_inputs['input_ids']), batch_size):\n",
    "    batch_input_ids = encoded_inputs['input_ids'][i:i+batch_size]\n",
    "    batch_attention_mask = encoded_inputs['attention_mask'][i:i+batch_size]\n",
    "\n",
    "    # 将输入放入模型中并获取输出\n",
    "    batch_output = model({'input_ids': batch_input_ids, 'attention_mask': batch_attention_mask})\n",
    "    outputs.append(batch_output)"
   ]
  },
  {
   "cell_type": "code",
   "execution_count": null,
   "id": "d4943f60-afe5-46df-9396-58d7c118469f",
   "metadata": {
    "id": "d4943f60-afe5-46df-9396-58d7c118469f"
   },
   "outputs": [],
   "source": [
    "import tensorflow as tf"
   ]
  },
  {
   "cell_type": "code",
   "execution_count": null,
   "id": "a194c8f3-ca18-4b77-aadd-2ae94285812c",
   "metadata": {
    "id": "a194c8f3-ca18-4b77-aadd-2ae94285812c"
   },
   "outputs": [],
   "source": [
    "final_output = tf.concat([output['last_hidden_state'] for output in outputs], axis=0)"
   ]
  },
  {
   "cell_type": "code",
   "execution_count": null,
   "id": "6ac0590d-177a-48c5-a7eb-588f3a064c2c",
   "metadata": {
    "colab": {
     "base_uri": "https://localhost:8080/"
    },
    "id": "6ac0590d-177a-48c5-a7eb-588f3a064c2c",
    "outputId": "4b152bf8-b1c7-4b88-cd61-b39f4f2cbd50"
   },
   "outputs": [
    {
     "data": {
      "text/plain": [
       "<tf.Tensor: shape=(420023, 100, 256), dtype=float32, numpy=\n",
       "array([[[-0.57189536, -0.31680027,  0.9213375 , ..., -0.6004787 ,\n",
       "         -0.37954748, -0.777109  ],\n",
       "        [-1.7749273 ,  0.19596325, -0.01406603, ..., -0.45159274,\n",
       "          0.5276122 , -0.8990034 ],\n",
       "        [-0.40558645,  0.39922947,  1.3492923 , ..., -0.50554985,\n",
       "          0.0524192 , -0.27326846],\n",
       "        ...,\n",
       "        [-0.5080751 ,  0.2841594 ,  0.8123927 , ..., -0.4148425 ,\n",
       "          0.05730512, -0.6146263 ],\n",
       "        [-0.01994731, -0.38263667,  0.45493418, ..., -1.037519  ,\n",
       "          0.3458075 , -0.81005913],\n",
       "        [ 0.5096139 , -0.7808671 ,  0.67695636, ...,  0.15591241,\n",
       "          0.92076904,  0.18061565]],\n",
       "\n",
       "       [[-0.89056194, -0.3459822 ,  0.9646132 , ..., -0.3464976 ,\n",
       "         -1.3829161 , -1.1503345 ],\n",
       "        [-1.5024074 , -1.0287977 ,  0.695825  , ..., -0.83375293,\n",
       "         -1.2247434 , -1.4466686 ],\n",
       "        [-1.7359278 ,  0.7637445 ,  0.17577446, ..., -0.503555  ,\n",
       "          0.03031102, -1.178607  ],\n",
       "        ...,\n",
       "        [ 0.34021217,  0.6879126 ,  0.00338425, ...,  0.38448912,\n",
       "         -0.5197312 , -0.00821941],\n",
       "        [-0.06321343,  1.0407727 , -0.12545407, ...,  0.6211348 ,\n",
       "         -0.64279974, -0.3828857 ],\n",
       "        [-0.62651753,  0.9888336 ,  0.2966222 , ...,  0.48194608,\n",
       "          0.06853832, -0.88195384]],\n",
       "\n",
       "       [[-0.37317526, -0.3335333 ,  0.8825101 , ..., -1.1579243 ,\n",
       "          0.25929382, -0.21075998],\n",
       "        [-0.8444993 , -0.27647942,  0.2844986 , ...,  0.06943049,\n",
       "         -0.08880257,  0.5099957 ],\n",
       "        [-0.9252864 ,  0.8191985 ,  0.28976357, ...,  0.43778378,\n",
       "          0.6450921 , -0.8530882 ],\n",
       "        ...,\n",
       "        [-0.77836394,  0.6580805 ,  1.0800484 , ..., -0.07157107,\n",
       "         -0.11833998,  0.8731706 ],\n",
       "        [ 0.22759639,  0.3322998 ,  1.2925664 , ..., -1.1380547 ,\n",
       "         -0.5910493 , -0.3577154 ],\n",
       "        [ 0.16280963, -0.25305125,  0.13273767, ..., -1.2685869 ,\n",
       "          0.97675705, -0.073226  ]],\n",
       "\n",
       "       ...,\n",
       "\n",
       "       [[ 0.19261616, -0.7904225 ,  1.5605607 , ..., -0.28441668,\n",
       "          0.4524912 , -0.13724855],\n",
       "        [-0.2718795 ,  0.6919844 ,  0.6631457 , ...,  1.2800224 ,\n",
       "         -0.39096668,  0.05067201],\n",
       "        [-0.21569677,  0.17459118,  0.7881158 , ...,  0.01884128,\n",
       "          0.12171625, -0.8525794 ],\n",
       "        ...,\n",
       "        [ 0.3897127 , -0.77522206,  1.3521272 , ..., -0.27545103,\n",
       "          0.17082731,  0.03731358],\n",
       "        [ 0.15940797, -1.059659  ,  1.1806178 , ..., -0.13679698,\n",
       "          1.0433229 ,  0.06561922],\n",
       "        [-0.21842587,  0.08990884,  1.549555  , ...,  0.01594739,\n",
       "          0.7617908 ,  0.065977  ]],\n",
       "\n",
       "       [[-0.23357031, -0.7289015 ,  0.8305319 , ..., -0.1907305 ,\n",
       "         -0.4177501 , -0.66615295],\n",
       "        [-1.451749  , -0.04596474,  0.60680854, ..., -0.01860136,\n",
       "         -0.70521736, -0.32141832],\n",
       "        [-1.3970028 ,  0.5394796 ,  0.7951368 , ...,  0.9539858 ,\n",
       "         -0.02951558,  0.8797869 ],\n",
       "        ...,\n",
       "        [-0.361318  , -0.24307449,  0.20602554, ...,  0.5823021 ,\n",
       "         -0.38272047, -0.60972047],\n",
       "        [-0.15904929, -0.17777435,  0.3785935 , ...,  0.5812574 ,\n",
       "         -0.01512183, -0.6892972 ],\n",
       "        [-0.58331394, -0.12363547,  0.854814  , ...,  0.24079642,\n",
       "          0.08346437, -0.5997244 ]],\n",
       "\n",
       "       [[-1.0370591 , -1.1369789 ,  1.8353446 , ..., -0.43497634,\n",
       "         -0.6429209 ,  0.75627494],\n",
       "        [-1.2028425 ,  0.09833297,  0.21522847, ...,  0.41580844,\n",
       "          0.46552292,  0.32201865],\n",
       "        [-1.2857109 ,  1.0809278 ,  0.5356714 , ..., -0.79138696,\n",
       "         -1.1470597 , -0.06845402],\n",
       "        ...,\n",
       "        [-0.7978323 ,  1.2732826 ,  1.2423337 , ...,  0.00203387,\n",
       "         -0.9240633 , -0.73128325],\n",
       "        [-0.82240605,  1.3152455 ,  1.0311302 , ...,  0.30692083,\n",
       "         -0.26820353, -0.8404349 ],\n",
       "        [-0.6455586 ,  1.4717287 ,  0.8067634 , ...,  0.1247762 ,\n",
       "         -0.3363382 ,  0.13987926]]], dtype=float32)>"
      ]
     },
     "execution_count": 12,
     "metadata": {},
     "output_type": "execute_result"
    }
   ],
   "source": [
    "final_output"
   ]
  },
  {
   "cell_type": "code",
   "execution_count": null,
   "id": "3dbf11e8-5600-462b-80b0-5451d08863b8",
   "metadata": {
    "id": "3dbf11e8-5600-462b-80b0-5451d08863b8"
   },
   "outputs": [],
   "source": [
    "y = df['Label']"
   ]
  },
  {
   "cell_type": "code",
   "execution_count": null,
   "id": "03161daa-e9a1-4a4f-8860-b09158cbb056",
   "metadata": {
    "colab": {
     "base_uri": "https://localhost:8080/"
    },
    "id": "03161daa-e9a1-4a4f-8860-b09158cbb056",
    "outputId": "e67e4e87-ce8d-4047-9372-245d61548e94"
   },
   "outputs": [
    {
     "data": {
      "text/plain": [
       "420023"
      ]
     },
     "execution_count": 14,
     "metadata": {},
     "output_type": "execute_result"
    }
   ],
   "source": [
    "len(y)"
   ]
  },
  {
   "cell_type": "code",
   "execution_count": null,
   "id": "88978605-bb71-4feb-95a3-74f811ca5f74",
   "metadata": {
    "id": "88978605-bb71-4feb-95a3-74f811ca5f74"
   },
   "outputs": [],
   "source": [
    "final_output = final_output.numpy()"
   ]
  },
  {
   "cell_type": "code",
   "execution_count": null,
   "id": "ccfacb01-b9b1-4cef-9639-f300f5b08734",
   "metadata": {
    "id": "ccfacb01-b9b1-4cef-9639-f300f5b08734"
   },
   "outputs": [],
   "source": [
    "from sklearn.model_selection import train_test_split\n",
    "x_train,x_test,y_train,y_test = train_test_split(final_output,y,random_state=1)"
   ]
  },
  {
   "cell_type": "code",
   "execution_count": null,
   "id": "e51a6f85-7f8c-482f-8dce-b900310e5753",
   "metadata": {
    "id": "e51a6f85-7f8c-482f-8dce-b900310e5753"
   },
   "outputs": [],
   "source": [
    "x_train,x_val,y_train,y_val = train_test_split(x_train,y_train,random_state=1)"
   ]
  },
  {
   "cell_type": "code",
   "execution_count": null,
   "id": "fc63f4b5-c345-4eda-821d-0934b0d4feb3",
   "metadata": {
    "id": "fc63f4b5-c345-4eda-821d-0934b0d4feb3"
   },
   "outputs": [],
   "source": [
    "from tensorflow.keras.models import Sequential\n",
    "from tensorflow.keras.layers import LSTM, Dense, Embedding, Dropout\n",
    "from tensorflow.keras import regularizers"
   ]
  },
  {
   "cell_type": "code",
   "execution_count": null,
   "id": "f2d60f45-bd4a-474f-8ac4-24dc057b9eb6",
   "metadata": {
    "id": "f2d60f45-bd4a-474f-8ac4-24dc057b9eb6"
   },
   "outputs": [],
   "source": [
    "lstm_model = Sequential()\n",
    "lstm_model.add(LSTM(100, return_sequences=True, input_shape=(100,256)))\n",
    "lstm_model.add(Dropout(0.2))\n",
    "lstm_model.add(LSTM(100))\n",
    "lstm_model.add(Dropout(0.2))\n",
    "lstm_model.add(Dense(1, activation='sigmoid'))  # Assuming binary classification\n",
    "\n",
    "lstm_model.compile(optimizer='adam', loss='binary_crossentropy', metrics=['accuracy'])"
   ]
  },
  {
   "cell_type": "code",
   "execution_count": null,
   "id": "5d7c452f-ab66-435b-8b17-d6db94206335",
   "metadata": {
    "colab": {
     "base_uri": "https://localhost:8080/"
    },
    "id": "5d7c452f-ab66-435b-8b17-d6db94206335",
    "outputId": "e9c5ca6f-1888-459b-9010-9a79f2fd8778"
   },
   "outputs": [
    {
     "name": "stdout",
     "output_type": "stream",
     "text": [
      "Model: \"sequential\"\n",
      "_________________________________________________________________\n",
      " Layer (type)                Output Shape              Param #   \n",
      "=================================================================\n",
      " lstm (LSTM)                 (None, 100, 100)          142800    \n",
      "                                                                 \n",
      " dropout (Dropout)           (None, 100, 100)          0         \n",
      "                                                                 \n",
      " lstm_1 (LSTM)               (None, 100)               80400     \n",
      "                                                                 \n",
      " dropout_1 (Dropout)         (None, 100)               0         \n",
      "                                                                 \n",
      " dense (Dense)               (None, 1)                 101       \n",
      "                                                                 \n",
      "=================================================================\n",
      "Total params: 223301 (872.27 KB)\n",
      "Trainable params: 223301 (872.27 KB)\n",
      "Non-trainable params: 0 (0.00 Byte)\n",
      "_________________________________________________________________\n"
     ]
    }
   ],
   "source": [
    "lstm_model.summary()"
   ]
  },
  {
   "cell_type": "code",
   "execution_count": null,
   "id": "505dd9fe-3db5-41a7-ab7a-2fdced89dc39",
   "metadata": {
    "colab": {
     "background_save": true,
     "base_uri": "https://localhost:8080/"
    },
    "id": "505dd9fe-3db5-41a7-ab7a-2fdced89dc39",
    "outputId": "26a5de80-082d-4ec1-fe0c-12e49ff6a050"
   },
   "outputs": [
    {
     "name": "stdout",
     "output_type": "stream",
     "text": [
      "Epoch 1/20\n",
      "7384/7384 [==============================] - 977s 132ms/step - loss: 0.4360 - accuracy: 0.7937 - val_loss: 0.4228 - val_accuracy: 0.8025\n",
      "Epoch 2/20\n",
      "7384/7384 [==============================] - 967s 131ms/step - loss: 0.3765 - accuracy: 0.8272 - val_loss: 0.3805 - val_accuracy: 0.8222\n",
      "Epoch 3/20\n",
      "7384/7384 [==============================] - 967s 131ms/step - loss: 0.3476 - accuracy: 0.8426 - val_loss: 0.3655 - val_accuracy: 0.8351\n",
      "Epoch 4/20\n",
      "7384/7384 [==============================] - 968s 131ms/step - loss: 0.3253 - accuracy: 0.8551 - val_loss: 0.3685 - val_accuracy: 0.8333\n",
      "Epoch 5/20\n",
      "7384/7384 [==============================] - 967s 131ms/step - loss: 0.3063 - accuracy: 0.8641 - val_loss: 0.3535 - val_accuracy: 0.8399\n",
      "Epoch 6/20\n",
      "7384/7384 [==============================] - 973s 132ms/step - loss: 0.2880 - accuracy: 0.8737 - val_loss: 0.3659 - val_accuracy: 0.8416\n",
      "Epoch 7/20\n",
      "7384/7384 [==============================] - 970s 131ms/step - loss: 0.2713 - accuracy: 0.8815 - val_loss: 0.3685 - val_accuracy: 0.8387\n",
      "Epoch 8/20\n",
      "7384/7384 [==============================] - 970s 131ms/step - loss: 0.2568 - accuracy: 0.8887 - val_loss: 0.3671 - val_accuracy: 0.8442\n",
      "Epoch 9/20\n",
      "7384/7384 [==============================] - 971s 131ms/step - loss: 0.2429 - accuracy: 0.8947 - val_loss: 0.3736 - val_accuracy: 0.8437\n",
      "Epoch 10/20\n",
      "7384/7384 [==============================] - 970s 131ms/step - loss: 0.2309 - accuracy: 0.9007 - val_loss: 0.3815 - val_accuracy: 0.8409\n",
      "Epoch 11/20\n",
      "7384/7384 [==============================] - 971s 132ms/step - loss: 0.2188 - accuracy: 0.9070 - val_loss: 0.3824 - val_accuracy: 0.8411\n",
      "Epoch 12/20\n",
      "7384/7384 [==============================] - 970s 131ms/step - loss: 0.2087 - accuracy: 0.9114 - val_loss: 0.4003 - val_accuracy: 0.8368\n",
      "Epoch 13/20\n",
      "7384/7384 [==============================] - 971s 132ms/step - loss: 0.2010 - accuracy: 0.9149 - val_loss: 0.4059 - val_accuracy: 0.8379\n",
      "Epoch 14/20\n",
      "7384/7384 [==============================] - 970s 131ms/step - loss: 0.1911 - accuracy: 0.9197 - val_loss: 0.4115 - val_accuracy: 0.8393\n",
      "Epoch 15/20\n",
      "7384/7384 [==============================] - 972s 132ms/step - loss: 0.1846 - accuracy: 0.9227 - val_loss: 0.4253 - val_accuracy: 0.8382\n",
      "Epoch 16/20\n",
      "7384/7384 [==============================] - 968s 131ms/step - loss: 0.1775 - accuracy: 0.9258 - val_loss: 0.4490 - val_accuracy: 0.8359\n",
      "Epoch 17/20\n",
      "7384/7384 [==============================] - 969s 131ms/step - loss: 0.1716 - accuracy: 0.9287 - val_loss: 0.4459 - val_accuracy: 0.8377\n",
      "Epoch 18/20\n",
      "7384/7384 [==============================] - 969s 131ms/step - loss: 0.1663 - accuracy: 0.9311 - val_loss: 0.4616 - val_accuracy: 0.8375\n",
      "Epoch 19/20\n",
      "7384/7384 [==============================] - 969s 131ms/step - loss: 0.1603 - accuracy: 0.9332 - val_loss: 0.4574 - val_accuracy: 0.8363\n",
      "Epoch 20/20\n",
      "7384/7384 [==============================] - 969s 131ms/step - loss: 0.1561 - accuracy: 0.9361 - val_loss: 0.4735 - val_accuracy: 0.8346\n"
     ]
    },
    {
     "data": {
      "text/plain": [
       "<keras.src.callbacks.History at 0x7cdbcc27f610>"
      ]
     },
     "execution_count": 22,
     "metadata": {},
     "output_type": "execute_result"
    }
   ],
   "source": [
    "lstm_model.fit(x_train, y_train, epochs=20, validation_data=(x_val,y_val),verbose=1)"
   ]
  },
  {
   "cell_type": "code",
   "execution_count": null,
   "id": "85f7fdb1-567e-427d-9d04-97ce5c2031c6",
   "metadata": {
    "colab": {
     "background_save": true
    },
    "id": "85f7fdb1-567e-427d-9d04-97ce5c2031c6"
   },
   "outputs": [],
   "source": []
  },
  {
   "cell_type": "code",
   "execution_count": null,
   "id": "VT_LtEKCb2PF",
   "metadata": {
    "id": "VT_LtEKCb2PF"
   },
   "outputs": [],
   "source": []
  },
  {
   "cell_type": "code",
   "execution_count": null,
   "id": "b637204d-9c91-4ee2-a9d6-b4c5a0295477",
   "metadata": {
    "id": "b637204d-9c91-4ee2-a9d6-b4c5a0295477"
   },
   "outputs": [],
   "source": [
    "lstm_model.evaluate(x_train,y_train)"
   ]
  },
  {
   "cell_type": "code",
   "execution_count": null,
   "id": "bb240df5-5d9f-45b6-8af3-b95fe92f0d5f",
   "metadata": {
    "colab": {
     "background_save": true
    },
    "id": "bb240df5-5d9f-45b6-8af3-b95fe92f0d5f"
   },
   "outputs": [],
   "source": [
    "lstm_model.evaluate(x_val,y_val)"
   ]
  },
  {
   "cell_type": "code",
   "execution_count": null,
   "id": "6bb8d359-0fc2-4181-ba80-1ae8f66208d9",
   "metadata": {
    "colab": {
     "background_save": true
    },
    "id": "6bb8d359-0fc2-4181-ba80-1ae8f66208d9"
   },
   "outputs": [],
   "source": [
    "lstm_model.evaluate(x_test,y_test)"
   ]
  },
  {
   "cell_type": "code",
   "execution_count": null,
   "id": "4c106de5-7b2d-4a69-901a-7092cf50960f",
   "metadata": {
    "id": "4c106de5-7b2d-4a69-901a-7092cf50960f"
   },
   "outputs": [],
   "source": []
  },
  {
   "cell_type": "code",
   "execution_count": null,
   "id": "404507de-0619-47e3-9e2b-bd136f53613d",
   "metadata": {
    "id": "404507de-0619-47e3-9e2b-bd136f53613d"
   },
   "outputs": [],
   "source": []
  }
 ],
 "metadata": {
  "accelerator": "TPU",
  "colab": {
   "gpuType": "V28",
   "machine_shape": "hm",
   "provenance": []
  },
  "kernelspec": {
   "display_name": "Python 3 (ipykernel)",
   "language": "python",
   "name": "python3"
  },
  "language_info": {
   "codemirror_mode": {
    "name": "ipython",
    "version": 3
   },
   "file_extension": ".py",
   "mimetype": "text/x-python",
   "name": "python",
   "nbconvert_exporter": "python",
   "pygments_lexer": "ipython3",
   "version": "3.12.4"
  },
  "widgets": {
   "application/vnd.jupyter.widget-state+json": {
    "0514629288594510b0851d272a8b1276": {
     "model_module": "@jupyter-widgets/controls",
     "model_module_version": "1.5.0",
     "model_name": "DescriptionStyleModel",
     "state": {
      "_model_module": "@jupyter-widgets/controls",
      "_model_module_version": "1.5.0",
      "_model_name": "DescriptionStyleModel",
      "_view_count": null,
      "_view_module": "@jupyter-widgets/base",
      "_view_module_version": "1.2.0",
      "_view_name": "StyleView",
      "description_width": ""
     }
    },
    "09ddfa4ae35542d386833634921260f0": {
     "model_module": "@jupyter-widgets/base",
     "model_module_version": "1.2.0",
     "model_name": "LayoutModel",
     "state": {
      "_model_module": "@jupyter-widgets/base",
      "_model_module_version": "1.2.0",
      "_model_name": "LayoutModel",
      "_view_count": null,
      "_view_module": "@jupyter-widgets/base",
      "_view_module_version": "1.2.0",
      "_view_name": "LayoutView",
      "align_content": null,
      "align_items": null,
      "align_self": null,
      "border": null,
      "bottom": null,
      "display": null,
      "flex": null,
      "flex_flow": null,
      "grid_area": null,
      "grid_auto_columns": null,
      "grid_auto_flow": null,
      "grid_auto_rows": null,
      "grid_column": null,
      "grid_gap": null,
      "grid_row": null,
      "grid_template_areas": null,
      "grid_template_columns": null,
      "grid_template_rows": null,
      "height": null,
      "justify_content": null,
      "justify_items": null,
      "left": null,
      "margin": null,
      "max_height": null,
      "max_width": null,
      "min_height": null,
      "min_width": null,
      "object_fit": null,
      "object_position": null,
      "order": null,
      "overflow": null,
      "overflow_x": null,
      "overflow_y": null,
      "padding": null,
      "right": null,
      "top": null,
      "visibility": null,
      "width": null
     }
    },
    "0bcdd5b42c7645e3a75f2a376a825355": {
     "model_module": "@jupyter-widgets/base",
     "model_module_version": "1.2.0",
     "model_name": "LayoutModel",
     "state": {
      "_model_module": "@jupyter-widgets/base",
      "_model_module_version": "1.2.0",
      "_model_name": "LayoutModel",
      "_view_count": null,
      "_view_module": "@jupyter-widgets/base",
      "_view_module_version": "1.2.0",
      "_view_name": "LayoutView",
      "align_content": null,
      "align_items": null,
      "align_self": null,
      "border": null,
      "bottom": null,
      "display": null,
      "flex": null,
      "flex_flow": null,
      "grid_area": null,
      "grid_auto_columns": null,
      "grid_auto_flow": null,
      "grid_auto_rows": null,
      "grid_column": null,
      "grid_gap": null,
      "grid_row": null,
      "grid_template_areas": null,
      "grid_template_columns": null,
      "grid_template_rows": null,
      "height": null,
      "justify_content": null,
      "justify_items": null,
      "left": null,
      "margin": null,
      "max_height": null,
      "max_width": null,
      "min_height": null,
      "min_width": null,
      "object_fit": null,
      "object_position": null,
      "order": null,
      "overflow": null,
      "overflow_x": null,
      "overflow_y": null,
      "padding": null,
      "right": null,
      "top": null,
      "visibility": null,
      "width": null
     }
    },
    "1fcb7e81ece846049163aa53375d07ef": {
     "model_module": "@jupyter-widgets/controls",
     "model_module_version": "1.5.0",
     "model_name": "HBoxModel",
     "state": {
      "_dom_classes": [],
      "_model_module": "@jupyter-widgets/controls",
      "_model_module_version": "1.5.0",
      "_model_name": "HBoxModel",
      "_view_count": null,
      "_view_module": "@jupyter-widgets/controls",
      "_view_module_version": "1.5.0",
      "_view_name": "HBoxView",
      "box_style": "",
      "children": [
       "IPY_MODEL_c0926f8a412d479ab728cd779f49e370",
       "IPY_MODEL_b88eff27cf1f4f7393303574db422983",
       "IPY_MODEL_28a3b1251e414807ba7b97c776801555"
      ],
      "layout": "IPY_MODEL_3d0a1901b5c24078ba08b25ee66172b0"
     }
    },
    "28a3b1251e414807ba7b97c776801555": {
     "model_module": "@jupyter-widgets/controls",
     "model_module_version": "1.5.0",
     "model_name": "HTMLModel",
     "state": {
      "_dom_classes": [],
      "_model_module": "@jupyter-widgets/controls",
      "_model_module_version": "1.5.0",
      "_model_name": "HTMLModel",
      "_view_count": null,
      "_view_module": "@jupyter-widgets/controls",
      "_view_module_version": "1.5.0",
      "_view_name": "HTMLView",
      "description": "",
      "description_tooltip": null,
      "layout": "IPY_MODEL_35bf2e1e16ba440e853ba11b894e872b",
      "placeholder": "​",
      "style": "IPY_MODEL_3691c1af77964825bd6d7a78202add0b",
      "value": " 286/286 [00:00&lt;00:00, 25.6kB/s]"
     }
    },
    "3387c8ee85734527800c070280a74efa": {
     "model_module": "@jupyter-widgets/base",
     "model_module_version": "1.2.0",
     "model_name": "LayoutModel",
     "state": {
      "_model_module": "@jupyter-widgets/base",
      "_model_module_version": "1.2.0",
      "_model_name": "LayoutModel",
      "_view_count": null,
      "_view_module": "@jupyter-widgets/base",
      "_view_module_version": "1.2.0",
      "_view_name": "LayoutView",
      "align_content": null,
      "align_items": null,
      "align_self": null,
      "border": null,
      "bottom": null,
      "display": null,
      "flex": null,
      "flex_flow": null,
      "grid_area": null,
      "grid_auto_columns": null,
      "grid_auto_flow": null,
      "grid_auto_rows": null,
      "grid_column": null,
      "grid_gap": null,
      "grid_row": null,
      "grid_template_areas": null,
      "grid_template_columns": null,
      "grid_template_rows": null,
      "height": null,
      "justify_content": null,
      "justify_items": null,
      "left": null,
      "margin": null,
      "max_height": null,
      "max_width": null,
      "min_height": null,
      "min_width": null,
      "object_fit": null,
      "object_position": null,
      "order": null,
      "overflow": null,
      "overflow_x": null,
      "overflow_y": null,
      "padding": null,
      "right": null,
      "top": null,
      "visibility": null,
      "width": null
     }
    },
    "35bf2e1e16ba440e853ba11b894e872b": {
     "model_module": "@jupyter-widgets/base",
     "model_module_version": "1.2.0",
     "model_name": "LayoutModel",
     "state": {
      "_model_module": "@jupyter-widgets/base",
      "_model_module_version": "1.2.0",
      "_model_name": "LayoutModel",
      "_view_count": null,
      "_view_module": "@jupyter-widgets/base",
      "_view_module_version": "1.2.0",
      "_view_name": "LayoutView",
      "align_content": null,
      "align_items": null,
      "align_self": null,
      "border": null,
      "bottom": null,
      "display": null,
      "flex": null,
      "flex_flow": null,
      "grid_area": null,
      "grid_auto_columns": null,
      "grid_auto_flow": null,
      "grid_auto_rows": null,
      "grid_column": null,
      "grid_gap": null,
      "grid_row": null,
      "grid_template_areas": null,
      "grid_template_columns": null,
      "grid_template_rows": null,
      "height": null,
      "justify_content": null,
      "justify_items": null,
      "left": null,
      "margin": null,
      "max_height": null,
      "max_width": null,
      "min_height": null,
      "min_width": null,
      "object_fit": null,
      "object_position": null,
      "order": null,
      "overflow": null,
      "overflow_x": null,
      "overflow_y": null,
      "padding": null,
      "right": null,
      "top": null,
      "visibility": null,
      "width": null
     }
    },
    "3691c1af77964825bd6d7a78202add0b": {
     "model_module": "@jupyter-widgets/controls",
     "model_module_version": "1.5.0",
     "model_name": "DescriptionStyleModel",
     "state": {
      "_model_module": "@jupyter-widgets/controls",
      "_model_module_version": "1.5.0",
      "_model_name": "DescriptionStyleModel",
      "_view_count": null,
      "_view_module": "@jupyter-widgets/base",
      "_view_module_version": "1.2.0",
      "_view_name": "StyleView",
      "description_width": ""
     }
    },
    "3b4f321a7fc146aa8f83b25fdcbce17f": {
     "model_module": "@jupyter-widgets/controls",
     "model_module_version": "1.5.0",
     "model_name": "ProgressStyleModel",
     "state": {
      "_model_module": "@jupyter-widgets/controls",
      "_model_module_version": "1.5.0",
      "_model_name": "ProgressStyleModel",
      "_view_count": null,
      "_view_module": "@jupyter-widgets/base",
      "_view_module_version": "1.2.0",
      "_view_name": "StyleView",
      "bar_color": null,
      "description_width": ""
     }
    },
    "3d0a1901b5c24078ba08b25ee66172b0": {
     "model_module": "@jupyter-widgets/base",
     "model_module_version": "1.2.0",
     "model_name": "LayoutModel",
     "state": {
      "_model_module": "@jupyter-widgets/base",
      "_model_module_version": "1.2.0",
      "_model_name": "LayoutModel",
      "_view_count": null,
      "_view_module": "@jupyter-widgets/base",
      "_view_module_version": "1.2.0",
      "_view_name": "LayoutView",
      "align_content": null,
      "align_items": null,
      "align_self": null,
      "border": null,
      "bottom": null,
      "display": null,
      "flex": null,
      "flex_flow": null,
      "grid_area": null,
      "grid_auto_columns": null,
      "grid_auto_flow": null,
      "grid_auto_rows": null,
      "grid_column": null,
      "grid_gap": null,
      "grid_row": null,
      "grid_template_areas": null,
      "grid_template_columns": null,
      "grid_template_rows": null,
      "height": null,
      "justify_content": null,
      "justify_items": null,
      "left": null,
      "margin": null,
      "max_height": null,
      "max_width": null,
      "min_height": null,
      "min_width": null,
      "object_fit": null,
      "object_position": null,
      "order": null,
      "overflow": null,
      "overflow_x": null,
      "overflow_y": null,
      "padding": null,
      "right": null,
      "top": null,
      "visibility": null,
      "width": null
     }
    },
    "492db59017a54d7c8aa37b2aa2d58e82": {
     "model_module": "@jupyter-widgets/controls",
     "model_module_version": "1.5.0",
     "model_name": "DescriptionStyleModel",
     "state": {
      "_model_module": "@jupyter-widgets/controls",
      "_model_module_version": "1.5.0",
      "_model_name": "DescriptionStyleModel",
      "_view_count": null,
      "_view_module": "@jupyter-widgets/base",
      "_view_module_version": "1.2.0",
      "_view_name": "StyleView",
      "description_width": ""
     }
    },
    "51a45161d5614c019a4a2e5e85a7a2ff": {
     "model_module": "@jupyter-widgets/controls",
     "model_module_version": "1.5.0",
     "model_name": "FloatProgressModel",
     "state": {
      "_dom_classes": [],
      "_model_module": "@jupyter-widgets/controls",
      "_model_module_version": "1.5.0",
      "_model_name": "FloatProgressModel",
      "_view_count": null,
      "_view_module": "@jupyter-widgets/controls",
      "_view_module_version": "1.5.0",
      "_view_name": "ProgressView",
      "bar_style": "success",
      "description": "",
      "description_tooltip": null,
      "layout": "IPY_MODEL_0bcdd5b42c7645e3a75f2a376a825355",
      "max": 45106985,
      "min": 0,
      "orientation": "horizontal",
      "style": "IPY_MODEL_5c38db9221184b9ab3dde82896f276ac",
      "value": 45106985
     }
    },
    "564cd580b4164b6e88217651bad59876": {
     "model_module": "@jupyter-widgets/controls",
     "model_module_version": "1.5.0",
     "model_name": "HBoxModel",
     "state": {
      "_dom_classes": [],
      "_model_module": "@jupyter-widgets/controls",
      "_model_module_version": "1.5.0",
      "_model_name": "HBoxModel",
      "_view_count": null,
      "_view_module": "@jupyter-widgets/controls",
      "_view_module_version": "1.5.0",
      "_view_name": "HBoxView",
      "box_style": "",
      "children": [
       "IPY_MODEL_57a0175f061e4212a7f2ddabbcf7932f",
       "IPY_MODEL_c8fa1b10a2e34a6da485089b1eceb151",
       "IPY_MODEL_5d0e5b103a1647a183209986b59ceab6"
      ],
      "layout": "IPY_MODEL_09ddfa4ae35542d386833634921260f0"
     }
    },
    "57a0175f061e4212a7f2ddabbcf7932f": {
     "model_module": "@jupyter-widgets/controls",
     "model_module_version": "1.5.0",
     "model_name": "HTMLModel",
     "state": {
      "_dom_classes": [],
      "_model_module": "@jupyter-widgets/controls",
      "_model_module_version": "1.5.0",
      "_model_name": "HTMLModel",
      "_view_count": null,
      "_view_module": "@jupyter-widgets/controls",
      "_view_module_version": "1.5.0",
      "_view_name": "HTMLView",
      "description": "",
      "description_tooltip": null,
      "layout": "IPY_MODEL_dd084f7c962a412dace31b3fc53aeda6",
      "placeholder": "​",
      "style": "IPY_MODEL_d93833cc1f774667a6e4564c1c335206",
      "value": "vocab.txt: 100%"
     }
    },
    "5c38db9221184b9ab3dde82896f276ac": {
     "model_module": "@jupyter-widgets/controls",
     "model_module_version": "1.5.0",
     "model_name": "ProgressStyleModel",
     "state": {
      "_model_module": "@jupyter-widgets/controls",
      "_model_module_version": "1.5.0",
      "_model_name": "ProgressStyleModel",
      "_view_count": null,
      "_view_module": "@jupyter-widgets/base",
      "_view_module_version": "1.2.0",
      "_view_name": "StyleView",
      "bar_color": null,
      "description_width": ""
     }
    },
    "5d0e5b103a1647a183209986b59ceab6": {
     "model_module": "@jupyter-widgets/controls",
     "model_module_version": "1.5.0",
     "model_name": "HTMLModel",
     "state": {
      "_dom_classes": [],
      "_model_module": "@jupyter-widgets/controls",
      "_model_module_version": "1.5.0",
      "_model_name": "HTMLModel",
      "_view_count": null,
      "_view_module": "@jupyter-widgets/controls",
      "_view_module_version": "1.5.0",
      "_view_name": "HTMLView",
      "description": "",
      "description_tooltip": null,
      "layout": "IPY_MODEL_8706ab84933f415093563478abf1fb2f",
      "placeholder": "​",
      "style": "IPY_MODEL_b8114e7e525042aaac80c40d5e8f0392",
      "value": " 232k/232k [00:00&lt;00:00, 2.48MB/s]"
     }
    },
    "8706ab84933f415093563478abf1fb2f": {
     "model_module": "@jupyter-widgets/base",
     "model_module_version": "1.2.0",
     "model_name": "LayoutModel",
     "state": {
      "_model_module": "@jupyter-widgets/base",
      "_model_module_version": "1.2.0",
      "_model_name": "LayoutModel",
      "_view_count": null,
      "_view_module": "@jupyter-widgets/base",
      "_view_module_version": "1.2.0",
      "_view_name": "LayoutView",
      "align_content": null,
      "align_items": null,
      "align_self": null,
      "border": null,
      "bottom": null,
      "display": null,
      "flex": null,
      "flex_flow": null,
      "grid_area": null,
      "grid_auto_columns": null,
      "grid_auto_flow": null,
      "grid_auto_rows": null,
      "grid_column": null,
      "grid_gap": null,
      "grid_row": null,
      "grid_template_areas": null,
      "grid_template_columns": null,
      "grid_template_rows": null,
      "height": null,
      "justify_content": null,
      "justify_items": null,
      "left": null,
      "margin": null,
      "max_height": null,
      "max_width": null,
      "min_height": null,
      "min_width": null,
      "object_fit": null,
      "object_position": null,
      "order": null,
      "overflow": null,
      "overflow_x": null,
      "overflow_y": null,
      "padding": null,
      "right": null,
      "top": null,
      "visibility": null,
      "width": null
     }
    },
    "9fcac0f79dc54e22982714c13402982e": {
     "model_module": "@jupyter-widgets/controls",
     "model_module_version": "1.5.0",
     "model_name": "ProgressStyleModel",
     "state": {
      "_model_module": "@jupyter-widgets/controls",
      "_model_module_version": "1.5.0",
      "_model_name": "ProgressStyleModel",
      "_view_count": null,
      "_view_module": "@jupyter-widgets/base",
      "_view_module_version": "1.2.0",
      "_view_name": "StyleView",
      "bar_color": null,
      "description_width": ""
     }
    },
    "a2cec76233354b2dbd564197d38b2216": {
     "model_module": "@jupyter-widgets/controls",
     "model_module_version": "1.5.0",
     "model_name": "HTMLModel",
     "state": {
      "_dom_classes": [],
      "_model_module": "@jupyter-widgets/controls",
      "_model_module_version": "1.5.0",
      "_model_name": "HTMLModel",
      "_view_count": null,
      "_view_module": "@jupyter-widgets/controls",
      "_view_module_version": "1.5.0",
      "_view_name": "HTMLView",
      "description": "",
      "description_tooltip": null,
      "layout": "IPY_MODEL_e4417df50a16476f94f93264a5f265fb",
      "placeholder": "​",
      "style": "IPY_MODEL_492db59017a54d7c8aa37b2aa2d58e82",
      "value": "pytorch_model.bin: 100%"
     }
    },
    "ae5099a5680f43efae3fc3838e140b5b": {
     "model_module": "@jupyter-widgets/base",
     "model_module_version": "1.2.0",
     "model_name": "LayoutModel",
     "state": {
      "_model_module": "@jupyter-widgets/base",
      "_model_module_version": "1.2.0",
      "_model_name": "LayoutModel",
      "_view_count": null,
      "_view_module": "@jupyter-widgets/base",
      "_view_module_version": "1.2.0",
      "_view_name": "LayoutView",
      "align_content": null,
      "align_items": null,
      "align_self": null,
      "border": null,
      "bottom": null,
      "display": null,
      "flex": null,
      "flex_flow": null,
      "grid_area": null,
      "grid_auto_columns": null,
      "grid_auto_flow": null,
      "grid_auto_rows": null,
      "grid_column": null,
      "grid_gap": null,
      "grid_row": null,
      "grid_template_areas": null,
      "grid_template_columns": null,
      "grid_template_rows": null,
      "height": null,
      "justify_content": null,
      "justify_items": null,
      "left": null,
      "margin": null,
      "max_height": null,
      "max_width": null,
      "min_height": null,
      "min_width": null,
      "object_fit": null,
      "object_position": null,
      "order": null,
      "overflow": null,
      "overflow_x": null,
      "overflow_y": null,
      "padding": null,
      "right": null,
      "top": null,
      "visibility": null,
      "width": null
     }
    },
    "b7d5ebd536f14426bc156f125007395d": {
     "model_module": "@jupyter-widgets/controls",
     "model_module_version": "1.5.0",
     "model_name": "DescriptionStyleModel",
     "state": {
      "_model_module": "@jupyter-widgets/controls",
      "_model_module_version": "1.5.0",
      "_model_name": "DescriptionStyleModel",
      "_view_count": null,
      "_view_module": "@jupyter-widgets/base",
      "_view_module_version": "1.2.0",
      "_view_name": "StyleView",
      "description_width": ""
     }
    },
    "b8114e7e525042aaac80c40d5e8f0392": {
     "model_module": "@jupyter-widgets/controls",
     "model_module_version": "1.5.0",
     "model_name": "DescriptionStyleModel",
     "state": {
      "_model_module": "@jupyter-widgets/controls",
      "_model_module_version": "1.5.0",
      "_model_name": "DescriptionStyleModel",
      "_view_count": null,
      "_view_module": "@jupyter-widgets/base",
      "_view_module_version": "1.2.0",
      "_view_name": "StyleView",
      "description_width": ""
     }
    },
    "b88eff27cf1f4f7393303574db422983": {
     "model_module": "@jupyter-widgets/controls",
     "model_module_version": "1.5.0",
     "model_name": "FloatProgressModel",
     "state": {
      "_dom_classes": [],
      "_model_module": "@jupyter-widgets/controls",
      "_model_module_version": "1.5.0",
      "_model_name": "FloatProgressModel",
      "_view_count": null,
      "_view_module": "@jupyter-widgets/controls",
      "_view_module_version": "1.5.0",
      "_view_name": "ProgressView",
      "bar_style": "success",
      "description": "",
      "description_tooltip": null,
      "layout": "IPY_MODEL_3387c8ee85734527800c070280a74efa",
      "max": 286,
      "min": 0,
      "orientation": "horizontal",
      "style": "IPY_MODEL_9fcac0f79dc54e22982714c13402982e",
      "value": 286
     }
    },
    "bdb73f13bd6042b09eaabe0ad097286b": {
     "model_module": "@jupyter-widgets/base",
     "model_module_version": "1.2.0",
     "model_name": "LayoutModel",
     "state": {
      "_model_module": "@jupyter-widgets/base",
      "_model_module_version": "1.2.0",
      "_model_name": "LayoutModel",
      "_view_count": null,
      "_view_module": "@jupyter-widgets/base",
      "_view_module_version": "1.2.0",
      "_view_name": "LayoutView",
      "align_content": null,
      "align_items": null,
      "align_self": null,
      "border": null,
      "bottom": null,
      "display": null,
      "flex": null,
      "flex_flow": null,
      "grid_area": null,
      "grid_auto_columns": null,
      "grid_auto_flow": null,
      "grid_auto_rows": null,
      "grid_column": null,
      "grid_gap": null,
      "grid_row": null,
      "grid_template_areas": null,
      "grid_template_columns": null,
      "grid_template_rows": null,
      "height": null,
      "justify_content": null,
      "justify_items": null,
      "left": null,
      "margin": null,
      "max_height": null,
      "max_width": null,
      "min_height": null,
      "min_width": null,
      "object_fit": null,
      "object_position": null,
      "order": null,
      "overflow": null,
      "overflow_x": null,
      "overflow_y": null,
      "padding": null,
      "right": null,
      "top": null,
      "visibility": null,
      "width": null
     }
    },
    "c0926f8a412d479ab728cd779f49e370": {
     "model_module": "@jupyter-widgets/controls",
     "model_module_version": "1.5.0",
     "model_name": "HTMLModel",
     "state": {
      "_dom_classes": [],
      "_model_module": "@jupyter-widgets/controls",
      "_model_module_version": "1.5.0",
      "_model_name": "HTMLModel",
      "_view_count": null,
      "_view_module": "@jupyter-widgets/controls",
      "_view_module_version": "1.5.0",
      "_view_name": "HTMLView",
      "description": "",
      "description_tooltip": null,
      "layout": "IPY_MODEL_bdb73f13bd6042b09eaabe0ad097286b",
      "placeholder": "​",
      "style": "IPY_MODEL_b7d5ebd536f14426bc156f125007395d",
      "value": "config.json: 100%"
     }
    },
    "c60a3340e6e0483581a8f37f217229e0": {
     "model_module": "@jupyter-widgets/base",
     "model_module_version": "1.2.0",
     "model_name": "LayoutModel",
     "state": {
      "_model_module": "@jupyter-widgets/base",
      "_model_module_version": "1.2.0",
      "_model_name": "LayoutModel",
      "_view_count": null,
      "_view_module": "@jupyter-widgets/base",
      "_view_module_version": "1.2.0",
      "_view_name": "LayoutView",
      "align_content": null,
      "align_items": null,
      "align_self": null,
      "border": null,
      "bottom": null,
      "display": null,
      "flex": null,
      "flex_flow": null,
      "grid_area": null,
      "grid_auto_columns": null,
      "grid_auto_flow": null,
      "grid_auto_rows": null,
      "grid_column": null,
      "grid_gap": null,
      "grid_row": null,
      "grid_template_areas": null,
      "grid_template_columns": null,
      "grid_template_rows": null,
      "height": null,
      "justify_content": null,
      "justify_items": null,
      "left": null,
      "margin": null,
      "max_height": null,
      "max_width": null,
      "min_height": null,
      "min_width": null,
      "object_fit": null,
      "object_position": null,
      "order": null,
      "overflow": null,
      "overflow_x": null,
      "overflow_y": null,
      "padding": null,
      "right": null,
      "top": null,
      "visibility": null,
      "width": null
     }
    },
    "c8fa1b10a2e34a6da485089b1eceb151": {
     "model_module": "@jupyter-widgets/controls",
     "model_module_version": "1.5.0",
     "model_name": "FloatProgressModel",
     "state": {
      "_dom_classes": [],
      "_model_module": "@jupyter-widgets/controls",
      "_model_module_version": "1.5.0",
      "_model_name": "FloatProgressModel",
      "_view_count": null,
      "_view_module": "@jupyter-widgets/controls",
      "_view_module_version": "1.5.0",
      "_view_name": "ProgressView",
      "bar_style": "success",
      "description": "",
      "description_tooltip": null,
      "layout": "IPY_MODEL_ae5099a5680f43efae3fc3838e140b5b",
      "max": 231508,
      "min": 0,
      "orientation": "horizontal",
      "style": "IPY_MODEL_3b4f321a7fc146aa8f83b25fdcbce17f",
      "value": 231508
     }
    },
    "d919d4122dcb48a1bed613b8d61dfbe0": {
     "model_module": "@jupyter-widgets/controls",
     "model_module_version": "1.5.0",
     "model_name": "HBoxModel",
     "state": {
      "_dom_classes": [],
      "_model_module": "@jupyter-widgets/controls",
      "_model_module_version": "1.5.0",
      "_model_name": "HBoxModel",
      "_view_count": null,
      "_view_module": "@jupyter-widgets/controls",
      "_view_module_version": "1.5.0",
      "_view_name": "HBoxView",
      "box_style": "",
      "children": [
       "IPY_MODEL_a2cec76233354b2dbd564197d38b2216",
       "IPY_MODEL_51a45161d5614c019a4a2e5e85a7a2ff",
       "IPY_MODEL_f9553800f93d4f899be878685f7fd7dd"
      ],
      "layout": "IPY_MODEL_c60a3340e6e0483581a8f37f217229e0"
     }
    },
    "d93833cc1f774667a6e4564c1c335206": {
     "model_module": "@jupyter-widgets/controls",
     "model_module_version": "1.5.0",
     "model_name": "DescriptionStyleModel",
     "state": {
      "_model_module": "@jupyter-widgets/controls",
      "_model_module_version": "1.5.0",
      "_model_name": "DescriptionStyleModel",
      "_view_count": null,
      "_view_module": "@jupyter-widgets/base",
      "_view_module_version": "1.2.0",
      "_view_name": "StyleView",
      "description_width": ""
     }
    },
    "dd084f7c962a412dace31b3fc53aeda6": {
     "model_module": "@jupyter-widgets/base",
     "model_module_version": "1.2.0",
     "model_name": "LayoutModel",
     "state": {
      "_model_module": "@jupyter-widgets/base",
      "_model_module_version": "1.2.0",
      "_model_name": "LayoutModel",
      "_view_count": null,
      "_view_module": "@jupyter-widgets/base",
      "_view_module_version": "1.2.0",
      "_view_name": "LayoutView",
      "align_content": null,
      "align_items": null,
      "align_self": null,
      "border": null,
      "bottom": null,
      "display": null,
      "flex": null,
      "flex_flow": null,
      "grid_area": null,
      "grid_auto_columns": null,
      "grid_auto_flow": null,
      "grid_auto_rows": null,
      "grid_column": null,
      "grid_gap": null,
      "grid_row": null,
      "grid_template_areas": null,
      "grid_template_columns": null,
      "grid_template_rows": null,
      "height": null,
      "justify_content": null,
      "justify_items": null,
      "left": null,
      "margin": null,
      "max_height": null,
      "max_width": null,
      "min_height": null,
      "min_width": null,
      "object_fit": null,
      "object_position": null,
      "order": null,
      "overflow": null,
      "overflow_x": null,
      "overflow_y": null,
      "padding": null,
      "right": null,
      "top": null,
      "visibility": null,
      "width": null
     }
    },
    "e4417df50a16476f94f93264a5f265fb": {
     "model_module": "@jupyter-widgets/base",
     "model_module_version": "1.2.0",
     "model_name": "LayoutModel",
     "state": {
      "_model_module": "@jupyter-widgets/base",
      "_model_module_version": "1.2.0",
      "_model_name": "LayoutModel",
      "_view_count": null,
      "_view_module": "@jupyter-widgets/base",
      "_view_module_version": "1.2.0",
      "_view_name": "LayoutView",
      "align_content": null,
      "align_items": null,
      "align_self": null,
      "border": null,
      "bottom": null,
      "display": null,
      "flex": null,
      "flex_flow": null,
      "grid_area": null,
      "grid_auto_columns": null,
      "grid_auto_flow": null,
      "grid_auto_rows": null,
      "grid_column": null,
      "grid_gap": null,
      "grid_row": null,
      "grid_template_areas": null,
      "grid_template_columns": null,
      "grid_template_rows": null,
      "height": null,
      "justify_content": null,
      "justify_items": null,
      "left": null,
      "margin": null,
      "max_height": null,
      "max_width": null,
      "min_height": null,
      "min_width": null,
      "object_fit": null,
      "object_position": null,
      "order": null,
      "overflow": null,
      "overflow_x": null,
      "overflow_y": null,
      "padding": null,
      "right": null,
      "top": null,
      "visibility": null,
      "width": null
     }
    },
    "e772e08109574453a54b623e19a54549": {
     "model_module": "@jupyter-widgets/base",
     "model_module_version": "1.2.0",
     "model_name": "LayoutModel",
     "state": {
      "_model_module": "@jupyter-widgets/base",
      "_model_module_version": "1.2.0",
      "_model_name": "LayoutModel",
      "_view_count": null,
      "_view_module": "@jupyter-widgets/base",
      "_view_module_version": "1.2.0",
      "_view_name": "LayoutView",
      "align_content": null,
      "align_items": null,
      "align_self": null,
      "border": null,
      "bottom": null,
      "display": null,
      "flex": null,
      "flex_flow": null,
      "grid_area": null,
      "grid_auto_columns": null,
      "grid_auto_flow": null,
      "grid_auto_rows": null,
      "grid_column": null,
      "grid_gap": null,
      "grid_row": null,
      "grid_template_areas": null,
      "grid_template_columns": null,
      "grid_template_rows": null,
      "height": null,
      "justify_content": null,
      "justify_items": null,
      "left": null,
      "margin": null,
      "max_height": null,
      "max_width": null,
      "min_height": null,
      "min_width": null,
      "object_fit": null,
      "object_position": null,
      "order": null,
      "overflow": null,
      "overflow_x": null,
      "overflow_y": null,
      "padding": null,
      "right": null,
      "top": null,
      "visibility": null,
      "width": null
     }
    },
    "f9553800f93d4f899be878685f7fd7dd": {
     "model_module": "@jupyter-widgets/controls",
     "model_module_version": "1.5.0",
     "model_name": "HTMLModel",
     "state": {
      "_dom_classes": [],
      "_model_module": "@jupyter-widgets/controls",
      "_model_module_version": "1.5.0",
      "_model_name": "HTMLModel",
      "_view_count": null,
      "_view_module": "@jupyter-widgets/controls",
      "_view_module_version": "1.5.0",
      "_view_name": "HTMLView",
      "description": "",
      "description_tooltip": null,
      "layout": "IPY_MODEL_e772e08109574453a54b623e19a54549",
      "placeholder": "​",
      "style": "IPY_MODEL_0514629288594510b0851d272a8b1276",
      "value": " 45.1M/45.1M [00:00&lt;00:00, 80.1MB/s]"
     }
    }
   }
  }
 },
 "nbformat": 4,
 "nbformat_minor": 5
}
